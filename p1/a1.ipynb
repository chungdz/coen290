{
 "cells": [
  {
   "cell_type": "code",
   "execution_count": 6,
   "id": "a0cc5139",
   "metadata": {},
   "outputs": [],
   "source": [
    "from PIL import Image\n",
    "import math"
   ]
  },
  {
   "cell_type": "code",
   "execution_count": 15,
   "id": "722a2641",
   "metadata": {},
   "outputs": [],
   "source": [
    "img = Image.new('RGB', (320, 240))\n",
    "pixels = img.load()\n",
    "pixels[100,100] = (255, 0, 0)"
   ]
  },
  {
   "cell_type": "code",
   "execution_count": 16,
   "id": "8473f081",
   "metadata": {},
   "outputs": [
    {
     "data": {
      "image/png": "[encoded data removed]",
      "text/plain": [
       "<PIL.Image.Image image mode=RGB size=320x240 at 0x7F8984BC4460>"
      ]
     },
     "metadata": {},
     "output_type": "display_data"
    }
   ],
   "source": [
    "img.show()"
   ]
  },
  {
   "cell_type": "code",
   "execution_count": 89,
   "id": "c2d97719",
   "metadata": {},
   "outputs": [],
   "source": [
    "def draw_circle(xc, yc, r, h=320, w=240):\n",
    "    \n",
    "    d = 5/4 - r\n",
    "    x = 0\n",
    "    y = r\n",
    "    points = [[x, y], [y, x]]\n",
    "    \n",
    "    # generate first quarter\n",
    "    while x < y:\n",
    "        if d < 0:\n",
    "            d += 2 * x + 3\n",
    "        elif d > 0:\n",
    "            y -= 1\n",
    "            d += 2 * x - 2 * y - 5\n",
    "        \n",
    "        x = x + 1\n",
    "        points.append([x, y])\n",
    "        points.append([y, x])\n",
    "    \n",
    "    points.append([int(r / math.sqrt(2)), int(r / math.sqrt(2))])\n",
    "    \n",
    "    # generate rest quarters\n",
    "    rest = []\n",
    "    for xq, yq in points:\n",
    "        rest.append([xq, -yq])\n",
    "        rest.append([-xq, yq])\n",
    "        rest.append([-xq, -yq])\n",
    "    \n",
    "    points += rest\n",
    "    \n",
    "    # check if all y have been drawn\n",
    "    spoints = set([x[1] for x in points])\n",
    "    for y in range(0, r + 1):\n",
    "        if y not in spoints:\n",
    "            print(y)\n",
    "    \n",
    "    img = Image.new('RGB', (w, h))\n",
    "    pixels = img.load()\n",
    "    for x, y in points:\n",
    "        pixels[x + xc, y + yc] = (255, 0, 0)\n",
    "    \n",
    "    return img"
   ]
  },
  {
   "cell_type": "code",
   "execution_count": 105,
   "id": "75e05c9d",
   "metadata": {},
   "outputs": [
    {
     "data": {
      "image/png": "[encoded data removed]",
      "text/plain": [
       "<PIL.Image.Image image mode=RGB size=240x320 at 0x7F8964FF49A0>"
      ]
     },
     "metadata": {},
     "output_type": "display_data"
    }
   ],
   "source": [
    "img1 = draw_circle(120, 160, 100)\n",
    "img1.save('circle_1.jpg')\n",
    "img1.show()"
   ]
  },
  {
   "cell_type": "code",
   "execution_count": 106,
   "id": "0d94c1b5",
   "metadata": {},
   "outputs": [],
   "source": [
    "def seed_fill(xs, ys, pixels):\n",
    "    \n",
    "    stack = [[xs, ys]]\n",
    "    \n",
    "    while len(stack) > 0:\n",
    "        curx, cury = stack.pop(0)\n",
    "        \n",
    "        pixels[curx, cury] = (255, 0, 0)\n",
    "        \n",
    "        if pixels[curx + 1, cury] == (0, 0, 0):\n",
    "            stack.append((curx + 1, cury))\n",
    "        if pixels[curx - 1, cury] == (0, 0, 0):\n",
    "            stack.append((curx - 1, cury))\n",
    "        if pixels[curx, cury + 1] == (0, 0, 0):\n",
    "            stack.append((curx, cury + 1))\n",
    "        if pixels[curx, cury - 1] == (0, 0, 0):\n",
    "            stack.append((curx, cury - 1))\n",
    "    return"
   ]
  },
  {
   "cell_type": "code",
   "execution_count": null,
   "id": "ffae4f76",
   "metadata": {},
   "outputs": [],
   "source": []
  },
  {
   "cell_type": "code",
   "execution_count": 107,
   "id": "7df856b8",
   "metadata": {},
   "outputs": [
    {
     "ename": "KeyboardInterrupt",
     "evalue": "",
     "output_type": "error",
     "traceback": [
      "\u001b[0;31m---------------------------------------------------------------------------\u001b[0m",
      "\u001b[0;31mKeyboardInterrupt\u001b[0m                         Traceback (most recent call last)",
      "Input \u001b[0;32mIn [107]\u001b[0m, in \u001b[0;36m<cell line: 2>\u001b[0;34m()\u001b[0m\n\u001b[1;32m      1\u001b[0m pixels \u001b[38;5;241m=\u001b[39m img1\u001b[38;5;241m.\u001b[39mload()\n\u001b[0;32m----> 2\u001b[0m \u001b[43mseed_fill\u001b[49m\u001b[43m(\u001b[49m\u001b[38;5;241;43m120\u001b[39;49m\u001b[43m,\u001b[49m\u001b[43m \u001b[49m\u001b[38;5;241;43m160\u001b[39;49m\u001b[43m,\u001b[49m\u001b[43m \u001b[49m\u001b[43mpixels\u001b[49m\u001b[43m)\u001b[49m\n\u001b[1;32m      3\u001b[0m img1\u001b[38;5;241m.\u001b[39msave(\u001b[38;5;124m'\u001b[39m\u001b[38;5;124mcircle_2.jpg\u001b[39m\u001b[38;5;124m'\u001b[39m)\n\u001b[1;32m      4\u001b[0m img1\u001b[38;5;241m.\u001b[39mshow()\n",
      "Input \u001b[0;32mIn [106]\u001b[0m, in \u001b[0;36mseed_fill\u001b[0;34m(xs, ys, pixels)\u001b[0m\n\u001b[1;32m      3\u001b[0m stack \u001b[38;5;241m=\u001b[39m [[xs, ys]]\n\u001b[1;32m      5\u001b[0m \u001b[38;5;28;01mwhile\u001b[39;00m \u001b[38;5;28mlen\u001b[39m(stack) \u001b[38;5;241m>\u001b[39m \u001b[38;5;241m0\u001b[39m:\n\u001b[0;32m----> 6\u001b[0m     curx, cury \u001b[38;5;241m=\u001b[39m \u001b[43mstack\u001b[49m\u001b[38;5;241;43m.\u001b[39;49m\u001b[43mpop\u001b[49m\u001b[43m(\u001b[49m\u001b[38;5;241;43m0\u001b[39;49m\u001b[43m)\u001b[49m\n\u001b[1;32m      8\u001b[0m     pixels[curx, cury] \u001b[38;5;241m=\u001b[39m (\u001b[38;5;241m255\u001b[39m, \u001b[38;5;241m0\u001b[39m, \u001b[38;5;241m0\u001b[39m)\n\u001b[1;32m     10\u001b[0m     \u001b[38;5;28;01mif\u001b[39;00m pixels[curx \u001b[38;5;241m+\u001b[39m \u001b[38;5;241m1\u001b[39m, cury] \u001b[38;5;241m==\u001b[39m (\u001b[38;5;241m0\u001b[39m, \u001b[38;5;241m0\u001b[39m, \u001b[38;5;241m0\u001b[39m):\n",
      "\u001b[0;31mKeyboardInterrupt\u001b[0m: "
     ]
    }
   ],
   "source": [
    "pixels = img1.load()\n",
    "seed_fill(120, 160, pixels)\n",
    "img1.save('circle_2.jpg')\n",
    "img1.show()"
   ]
  },
  {
   "cell_type": "code",
   "execution_count": null,
   "id": "55518e0f",
   "metadata": {},
   "outputs": [],
   "source": [
    "def draw_circle(xc, yc, r, h=320, w=240, alias=False):\n",
    "    \n",
    "    d = 5/4 - r\n",
    "    x = 0\n",
    "    y = r\n",
    "    points = [[x, y], [y, x]]\n",
    "    \n",
    "    # generate first quarter\n",
    "    while x < y:\n",
    "        if d < 0:\n",
    "            d += 2 * x + 3\n",
    "        elif d > 0:\n",
    "            y -= 1\n",
    "            d += 2 * x - 2 * y - 5\n",
    "        \n",
    "        x = x + 1\n",
    "        points.append([x, y])\n",
    "        points.append([y, x])\n",
    "    \n",
    "    points.append([int(r / math.sqrt(2)), int(r / math.sqrt(2))])\n",
    "    \n",
    "        \n",
    "    # check if all y have been drawn\n",
    "    spoints = set([x[1] for x in points])\n",
    "    for y in range(0, r + 1):\n",
    "        if y not in spoints:\n",
    "            print(y)\n",
    "    \n",
    "    # generate rest quarters\n",
    "    rest = []\n",
    "    for xq, yq in points:\n",
    "        rest.append([xq, -yq])\n",
    "        rest.append([-xq, yq])\n",
    "        rest.append([-xq, -yq])\n",
    "    \n",
    "    points += rest\n",
    "\n",
    "    # draw the border and alias\n",
    "    img = Image.new('RGB', (w, h))\n",
    "    pixels = img.load()\n",
    "    r2 = r ** 2\n",
    "    for x, y in points:\n",
    "        if alias:\n",
    "            \n",
    "            subc = [[x, y], [x + 1/3, y], [x + 2/3, y]\n",
    "                    [x, y + 1/3], [x + 1/3, y + 1/3], [x + 2/3, y + 1/3],\n",
    "                    [x, y + 2/3], [x + 1/3, y + 2/3], [x + 2/3, y + 2/3]\n",
    "                   ]\n",
    "            # find subarea inside the circle\n",
    "            total = 0\n",
    "            for sx, sy in subc:\n",
    "                if sx ** 2 + sy ** 2 < r2:\n",
    "                    total += 1\n",
    "            # calculate the value\n",
    "            pixels[x + xc, y + yc] = (int(255 * total / 9), 0, 0)\n",
    "            \n",
    "        else:\n",
    "            pixels[x + xc, y + yc] = (255, 0, 0)\n",
    "    \n",
    "    return img"
   ]
  }
 ],
 "metadata": {
  "kernelspec": {
   "display_name": "Python 3 (ipykernel)",
   "language": "python",
   "name": "python3"
  },
  "language_info": {
   "codemirror_mode": {
    "name": "ipython",
    "version": 3
   },
   "file_extension": ".py",
   "mimetype": "text/x-python",
   "name": "python",
   "nbconvert_exporter": "python",
   "pygments_lexer": "ipython3",
   "version": "3.9.12"
  }
 },
 "nbformat": 4,
 "nbformat_minor": 5
}
