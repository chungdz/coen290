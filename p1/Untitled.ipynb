{
 "cells": [
  {
   "cell_type": "code",
   "execution_count": 6,
   "id": "f9ddec90",
   "metadata": {},
   "outputs": [],
   "source": [
    "from PIL import Image\n",
    "import math\n",
    "import collections"
   ]
  },
  {
   "cell_type": "code",
   "execution_count": 19,
   "id": "1b19b20c",
   "metadata": {},
   "outputs": [],
   "source": [
    "def draw_circle(xc, yc, r, h=320, w=240, alias=False, fill=False):\n",
    "    \n",
    "    d = 5/4 - r\n",
    "    x = 0\n",
    "    y = r\n",
    "    points = [[x, y], [y, x]]\n",
    "    \n",
    "    # generate first quarter\n",
    "    while x < y:\n",
    "        if d < 0:\n",
    "            d += 2 * x + 3\n",
    "        elif d > 0:\n",
    "            y -= 1\n",
    "            d += 2 * x - 2 * y - 5\n",
    "        \n",
    "        x = x + 1\n",
    "        points.append([x, y])\n",
    "        points.append([y, x])\n",
    "    \n",
    "    points.append([int(r / math.sqrt(2)), int(r / math.sqrt(2))])\n",
    "    \n",
    "        \n",
    "    # check if all y have been drawn\n",
    "    spoints = set([x[1] for x in points])\n",
    "    for y in range(0, r + 1):\n",
    "        if y not in spoints:\n",
    "            print(y)\n",
    "    \n",
    "    # generate rest quarters\n",
    "    rest = []\n",
    "    for xq, yq in points:\n",
    "        rest.append([xq, -yq])\n",
    "        rest.append([-xq, yq])\n",
    "        rest.append([-xq, -yq])\n",
    "    \n",
    "    points += rest\n",
    "\n",
    "    # draw the border and alias\n",
    "    img = Image.new('RGB', (w, h))\n",
    "    pixels = img.load()\n",
    "    r2 = r ** 2\n",
    "    for x, y in points:\n",
    "        if alias:\n",
    "            \n",
    "            subc = [[x, y], [x + 1/3, y], [x + 2/3, y],\n",
    "                    [x, y + 1/3], [x + 1/3, y + 1/3], [x + 2/3, y + 1/3],\n",
    "                    [x, y + 2/3], [x + 1/3, y + 2/3], [x + 2/3, y + 2/3]\n",
    "                   ]\n",
    "            # find subarea inside the circle\n",
    "            total = 0\n",
    "            for sx, sy in subc:\n",
    "                if sx ** 2 + sy ** 2 < r2:\n",
    "                    total += 1\n",
    "            # calculate the value\n",
    "            pixels[x + xc, y + yc] = (int(255 * total / 9), 0, 0)\n",
    "            \n",
    "        else:\n",
    "            pixels[x + xc, y + yc] = (255, 0, 0)\n",
    "    \n",
    "    if not fill:\n",
    "        return img\n",
    "    \n",
    "    # fill the area\n",
    "    # scan line\n",
    "    ydict = collections.defaultdict(set)\n",
    "    for x, y in points:\n",
    "        ydict[y + yc].add(x + xc)\n",
    "    # fill\n",
    "    for cy, xset in ydict.items():\n",
    "        xmin = min(xset)\n",
    "        xmax = max(xset)\n",
    "        for cx in range(xmin, xmax + 1):\n",
    "            if cx in xset:\n",
    "                continue\n",
    "            pixels[cx, cy] = (255, 0, 0)\n",
    "    \n",
    "    return img"
   ]
  },
  {
   "cell_type": "code",
   "execution_count": 20,
   "id": "77608fb4",
   "metadata": {},
   "outputs": [],
   "source": [
    "img1 = draw_circle(120, 160, 100)\n",
    "img1.save('circle_1.jpg')\n",
    "\n",
    "img2 = draw_circle(120, 160, 100, fill=True)\n",
    "img2.save('circle_2.jpg')\n",
    "\n",
    "img3 = draw_circle(120, 160, 100, alias=True, fill=True)\n",
    "img3.save('circle_3.jpg')"
   ]
  },
  {
   "cell_type": "code",
   "execution_count": 15,
   "id": "29de405c",
   "metadata": {},
   "outputs": [
    {
     "data": {
      "image/png": "[encoded data removed]",
      "text/plain": [
       "<PIL.Image.Image image mode=RGB size=240x320 at 0x7FB2997F6700>"
      ]
     },
     "metadata": {},
     "output_type": "display_data"
    }
   ],
   "source": [
    "img2 = draw_circle(120, 160, 100, alias=False, fill=True)\n",
    "img2.show()"
   ]
  },
  {
   "cell_type": "code",
   "execution_count": 5,
   "id": "948f16cd",
   "metadata": {},
   "outputs": [
    {
     "ename": "KeyboardInterrupt",
     "evalue": "",
     "output_type": "error",
     "traceback": [
      "\u001b[0;31m---------------------------------------------------------------------------\u001b[0m",
      "\u001b[0;31mKeyboardInterrupt\u001b[0m                         Traceback (most recent call last)",
      "Input \u001b[0;32mIn [5]\u001b[0m, in \u001b[0;36m<cell line: 2>\u001b[0;34m()\u001b[0m\n\u001b[1;32m      1\u001b[0m pixels \u001b[38;5;241m=\u001b[39m img2\u001b[38;5;241m.\u001b[39mload()\n\u001b[0;32m----> 2\u001b[0m \u001b[43mseed_fill\u001b[49m\u001b[43m(\u001b[49m\u001b[38;5;241;43m120\u001b[39;49m\u001b[43m,\u001b[49m\u001b[43m \u001b[49m\u001b[38;5;241;43m160\u001b[39;49m\u001b[43m,\u001b[49m\u001b[43m \u001b[49m\u001b[43mpixels\u001b[49m\u001b[43m)\u001b[49m\n\u001b[1;32m      3\u001b[0m img2\u001b[38;5;241m.\u001b[39msave(\u001b[38;5;124m'\u001b[39m\u001b[38;5;124mcircle_2.jpg\u001b[39m\u001b[38;5;124m'\u001b[39m)\n\u001b[1;32m      4\u001b[0m img2\u001b[38;5;241m.\u001b[39mshow()\n",
      "Input \u001b[0;32mIn [3]\u001b[0m, in \u001b[0;36mseed_fill\u001b[0;34m(xs, ys, pixels)\u001b[0m\n\u001b[1;32m      3\u001b[0m stack \u001b[38;5;241m=\u001b[39m [[xs, ys]]\n\u001b[1;32m      5\u001b[0m \u001b[38;5;28;01mwhile\u001b[39;00m \u001b[38;5;28mlen\u001b[39m(stack) \u001b[38;5;241m>\u001b[39m \u001b[38;5;241m0\u001b[39m:\n\u001b[0;32m----> 6\u001b[0m     curx, cury \u001b[38;5;241m=\u001b[39m \u001b[43mstack\u001b[49m\u001b[38;5;241;43m.\u001b[39;49m\u001b[43mpop\u001b[49m\u001b[43m(\u001b[49m\u001b[38;5;241;43m0\u001b[39;49m\u001b[43m)\u001b[49m\n\u001b[1;32m      8\u001b[0m     pixels[curx, cury] \u001b[38;5;241m=\u001b[39m (\u001b[38;5;241m255\u001b[39m, \u001b[38;5;241m0\u001b[39m, \u001b[38;5;241m0\u001b[39m)\n\u001b[1;32m     10\u001b[0m     \u001b[38;5;28;01mif\u001b[39;00m pixels[curx \u001b[38;5;241m+\u001b[39m \u001b[38;5;241m1\u001b[39m, cury] \u001b[38;5;241m==\u001b[39m (\u001b[38;5;241m0\u001b[39m, \u001b[38;5;241m0\u001b[39m, \u001b[38;5;241m0\u001b[39m):\n",
      "\u001b[0;31mKeyboardInterrupt\u001b[0m: "
     ]
    }
   ],
   "source": [
    "pixels = img2.load()\n",
    "seed_fill(120, 160, pixels)\n",
    "img2.save('circle_2.jpg')\n",
    "img2.show()"
   ]
  },
  {
   "cell_type": "code",
   "execution_count": null,
   "id": "50d28f48",
   "metadata": {},
   "outputs": [],
   "source": []
  }
 ],
 "metadata": {
  "kernelspec": {
   "display_name": "Python 3 (ipykernel)",
   "language": "python",
   "name": "python3"
  },
  "language_info": {
   "codemirror_mode": {
    "name": "ipython",
    "version": 3
   },
   "file_extension": ".py",
   "mimetype": "text/x-python",
   "name": "python",
   "nbconvert_exporter": "python",
   "pygments_lexer": "ipython3",
   "version": "3.9.12"
  }
 },
 "nbformat": 4,
 "nbformat_minor": 5
}
